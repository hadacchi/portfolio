{
 "cells": [
  {
   "cell_type": "markdown",
   "id": "ca3a8589-1736-44bb-95c0-c0c79eebac66",
   "metadata": {},
   "source": [
    "# リスクリターン平面の作成"
   ]
  },
  {
   "cell_type": "code",
   "execution_count": 1,
   "id": "d506a18c-f9e9-4494-bc61-ed7cd726409e",
   "metadata": {},
   "outputs": [],
   "source": [
    "import toml\n",
    "import pandas as pd\n",
    "import datetime\n",
    "import copy\n",
    "import numpy as np\n",
    "from scipy.stats import gmean\n",
    "\n",
    "import yfinance as yf\n",
    "\n",
    "from statsmodels.tsa.seasonal import seasonal_decompose\n",
    "\n",
    "import seaborn as sns\n",
    "import matplotlib.pyplot as plt\n",
    "\n",
    "from pptx import Presentation\n",
    "from pptx.util import Cm, Pt, Inches  # 単位変換機能\n",
    "from pptx.dml.color import RGBColor   # 色指定用\n",
    "\n",
    "from deal import *\n",
    "from load_ts import *"
   ]
  },
  {
   "cell_type": "markdown",
   "id": "61a8e744-e5d8-469a-a868-c9751884f633",
   "metadata": {},
   "source": [
    "## 時系列の取得"
   ]
  },
  {
   "cell_type": "code",
   "execution_count": 3,
   "id": "d575cac4-77e2-4ebc-8a6e-8c0638a3af70",
   "metadata": {},
   "outputs": [],
   "source": [
    "labels = [  'VOO'  # S&P500 連動 ETF\n",
    "          , 'SPYD' # S&P500 高配当株式 ETF\n",
    "          , 'VYM'  # バンガード米国高配当株式 ETF\n",
    "          , 'SCHD' # シュワブ米国高配当株式 ETF\n",
    "          , 'VT'   # バンガード・トータル・ワールドストックETF\n",
    "          , 'GLD'  # SDPRゴールドシェア\n",
    "         ]"
   ]
  },
  {
   "cell_type": "code",
   "execution_count": 4,
   "id": "2256365d-7a40-4f09-bca9-9cd12998b006",
   "metadata": {},
   "outputs": [],
   "source": [
    "tickers = {key: yf.Ticker(key) for key in labels}\n",
    "data = {}\n",
    "for key,ticker in tickers.items():\n",
    "    datum = ticker.history(start='2000-01-01', end='2025-02-21')\n",
    "    datum.index = datum.index.tz_localize(None)\n",
    "    data[key] = datum\n",
    "close_list = []\n",
    "dividends_list = []\n",
    "key_list = []\n",
    "for key, datum in data.items():\n",
    "    close_list.append(datum['Close'])\n",
    "    dividends_list.append(datum['Dividends'])\n",
    "    key_list.append(key)\n",
    "# 終値の時系列\n",
    "close_df = pd.concat(close_list, axis=1, join='inner')\n",
    "close_df.columns = key_list\n",
    "\n",
    "# 分配金の時系列\n",
    "dividends_df = pd.concat(dividends_list, axis=1, join='inner')\n",
    "dividends_df.columns = key_list\n",
    "\n",
    "# 分配金の額面に対する率\n",
    "div_rate_df = dividends_df/close_df"
   ]
  },
  {
   "cell_type": "markdown",
   "id": "4d441a94-8a93-4195-ad97-3665ed51f5b7",
   "metadata": {},
   "source": [
    "## テストコード"
   ]
  },
  {
   "cell_type": "code",
   "execution_count": 5,
   "id": "b8155b07-8922-4284-9bd7-b2d4999929d7",
   "metadata": {},
   "outputs": [],
   "source": [
    "y0 = close_df['VOO'].index[0].year\n",
    "y1 = close_df['VOO'].index[-1].year\n",
    "\n",
    "vals = {}\n",
    "for y in range(y0,y1):\n",
    "    prev = close_df['VOO'].loc[:datetime.datetime(y,12,31)].index[-1]\n",
    "    vals[prev] = close_df['VOO'].loc[prev]\n",
    "yearly_voo = pd.Series(vals)"
   ]
  },
  {
   "cell_type": "code",
   "execution_count": 6,
   "id": "cf6e5a31-d410-4e55-924e-08f276a0ebea",
   "metadata": {},
   "outputs": [
    {
     "data": {
      "text/plain": [
       "(np.float64(0.15672153845471978), np.float64(0.10080027610462783))"
      ]
     },
     "execution_count": 6,
     "metadata": {},
     "output_type": "execute_result"
    }
   ],
   "source": [
    "arithmetic_mean = yearly_voo.pct_change().dropna().mean()\n",
    "geometric_mean = ((yearly_voo.iloc[-1]-yearly_voo.iloc[0])/yearly_voo.iloc[0])**(1/(len(yearly_voo)-1))-1\n",
    "arithmetic_mean, geometric_mean"
   ]
  },
  {
   "cell_type": "code",
   "execution_count": 7,
   "id": "f68b6f87-98d3-4736-9ff9-e5e9947b63c4",
   "metadata": {},
   "outputs": [
    {
     "data": {
      "text/plain": [
       "np.float64(0.16686599278995107)"
      ]
     },
     "execution_count": 7,
     "metadata": {},
     "output_type": "execute_result"
    }
   ],
   "source": [
    "returns = yearly_voo.pct_change().dropna()\n",
    "risk = returns.std()\n",
    "risk"
   ]
  },
  {
   "cell_type": "code",
   "execution_count": 8,
   "id": "acda3d7f-7705-4ebc-a08a-e3390b1623bd",
   "metadata": {},
   "outputs": [],
   "source": [
    "daily_return = close_df['VOO'].pct_change().dropna()\n",
    "daily_arithmetic_mean = daily_return.mean()\n",
    "daily_risk = daily_return.std()"
   ]
  },
  {
   "cell_type": "code",
   "execution_count": 9,
   "id": "08283820-82f1-4a28-b8e9-de123bdaab76",
   "metadata": {},
   "outputs": [
    {
     "data": {
      "text/plain": [
       "(np.float64(0.0005996742373635516), np.float64(0.011277977223254496))"
      ]
     },
     "execution_count": 9,
     "metadata": {},
     "output_type": "execute_result"
    }
   ],
   "source": [
    "daily_arithmetic_mean, daily_risk"
   ]
  },
  {
   "cell_type": "code",
   "execution_count": 10,
   "id": "86c42ebf-d548-401b-8d9e-4a6451e26ada",
   "metadata": {},
   "outputs": [
    {
     "data": {
      "text/plain": [
       "(np.float64(0.151117907815615), np.float64(0.15672153845471978))"
      ]
     },
     "execution_count": 10,
     "metadata": {},
     "output_type": "execute_result"
    }
   ],
   "source": [
    "daily_arithmetic_mean*252, arithmetic_mean"
   ]
  },
  {
   "cell_type": "code",
   "execution_count": 11,
   "id": "e735d674-a7a0-4b9d-bea3-82386909e80f",
   "metadata": {},
   "outputs": [
    {
     "data": {
      "text/plain": [
       "(np.float64(0.17903233814749306), np.float64(0.16686599278995107))"
      ]
     },
     "execution_count": 11,
     "metadata": {},
     "output_type": "execute_result"
    }
   ],
   "source": [
    "daily_risk*np.sqrt(252), risk"
   ]
  },
  {
   "cell_type": "code",
   "execution_count": 12,
   "id": "97c89dd6-66c5-446b-8416-6411e2f644ef",
   "metadata": {},
   "outputs": [
    {
     "name": "stdout",
     "output_type": "stream",
     "text": [
      "risk is  0.1271528542858593\n"
     ]
    }
   ],
   "source": [
    "year_voo = close_df['VOO'].loc[datetime.datetime(2024,2,1):datetime.datetime(2025,1,31)]\n",
    "returns = year_voo.pct_change().dropna()\n",
    "print('risk is ',returns.std()*np.sqrt(len(returns)))"
   ]
  },
  {
   "cell_type": "code",
   "execution_count": 13,
   "id": "792da483-85b8-4b9f-80b3-9b836fbb843c",
   "metadata": {},
   "outputs": [
    {
     "name": "stdout",
     "output_type": "stream",
     "text": [
      "length of series is  52\n",
      "arithmetic mean return is  0.2186018129112031\n",
      "weekly risk is  0.12692074233615888\n"
     ]
    }
   ],
   "source": [
    "# 0 ... 月曜, 6 ... 日曜\n",
    "# 金曜のサンプル close_df.index[1] == Timestamp('2015-10-23 00:00:00')\n",
    "# 曜日番号系列 close_df.index.weekday\n",
    "# 曜日番号の差分で、負の値をとるところが曜日またぎ close_df.index.weekday.diff().dropna()\n",
    "# 先頭[0]は「金曜日-木曜日」なので正、2番目[1]は「月曜日-金曜日」なので負、これがindex[1]と一致するので、これで週の最終営業日の終値を抜き出せた\n",
    "weekly_voo = close_df['VOO'].iloc[:-1][close_df.index.weekday.diff().dropna()<0]\n",
    "# 1月末時点の1年分の週次分析\n",
    "tmp = weekly_voo.loc[datetime.datetime(2024,2,1):datetime.datetime(2025,1,31)]\n",
    "weekly_returns = tmp.pct_change().dropna()\n",
    "print('length of series is ', len(weekly_returns))\n",
    "print('arithmetic mean return is ', weekly_returns.mean() * len(weekly_returns))\n",
    "print('weekly risk is ', weekly_returns.std()*np.sqrt(len(weekly_returns)))"
   ]
  },
  {
   "cell_type": "code",
   "execution_count": 14,
   "id": "5b7e6184-b454-4f1b-8cca-f765f8d4711c",
   "metadata": {},
   "outputs": [
    {
     "data": {
      "text/plain": [
       "np.float64(0.1269207423361589)"
      ]
     },
     "execution_count": 14,
     "metadata": {},
     "output_type": "execute_result"
    }
   ],
   "source": [
    "sq_sum = (weekly_returns*weekly_returns).sum()  # 平方和\n",
    "sum_sq = weekly_returns.sum()**2  # 和の平方\n",
    "variance = (len(weekly_returns)*sq_sum - sum_sq)/len(weekly_returns)/(len(weekly_returns)-1)  # 不偏分散\n",
    "std = np.sqrt(variance)  # 標準偏差\n",
    "std*np.sqrt(len(weekly_returns))"
   ]
  },
  {
   "cell_type": "code",
   "execution_count": 30,
   "id": "bd781be6-982e-4a07-a995-fb4a50642ec0",
   "metadata": {},
   "outputs": [],
   "source": [
    "import csv\n",
    "import os\n",
    "import re\n",
    "\n",
    "jpdate_splitter = re.compile('[年月日]')\n",
    "index_column = '年月日'\n",
    "data_column = '基準価額(円)'\n",
    "\n",
    "def to_date(datestr):\n",
    "    '''input is date string joined by date_splitter\n",
    "\n",
    "    now only jp date format is implemented.\n",
    "    '''\n",
    "    if datestr.find('年') > 0:\n",
    "        date_list = jpdate_splitter.split(datestr)\n",
    "        if len(date_list) < 3:\n",
    "            raise Exception(f'invalid date string: {datestr}')\n",
    "        return datetime.datetime(*list(map(int, date_list[:3])))\n",
    "    else:\n",
    "        raise Exception(f'unknown date format: {datestr}')\n",
    "\n",
    "def load_csv(mutual_fund_name):\n",
    "    if os.path.isfile(mutual_fund_name+'.csv'):\n",
    "        data = pd.read_csv(mutual_fund_name+'.csv', encoding='932')\n",
    "        #with open(mutual_fund_name+'.csv') as fobj:\n",
    "        #    cobj = csv.reader(fobj.read().rstrip().splitlines())\n",
    "        #    data = [row for row in cobj]\n",
    "    else:\n",
    "        raise Exception(f'No such mutual fund data: {mutual_fund_name}')\n",
    "    data[index_column] = data[index_column].apply(to_date)\n",
    "    series = data.set_index(index_column)[data_column]\n",
    "    series.name = mutual_fund_name\n",
    "    return series\n",
    "\n",
    "emaxis_slim_sp500 = load_csv('ｅＭＡＸＩＳ　Ｓｌｉｍ米国株式（Ｓ＆Ｐ５００）')"
   ]
  },
  {
   "cell_type": "code",
   "execution_count": 32,
   "id": "713aab68-9b10-48fa-a0d7-2b44f933cc50",
   "metadata": {},
   "outputs": [
    {
     "name": "stdout",
     "output_type": "stream",
     "text": [
      "risk is  0.1743928881301315\n"
     ]
    }
   ],
   "source": [
    "year_sp500 = emaxis_slim_sp500.loc[datetime.datetime(2024,2,1):datetime.datetime(2025,1,31)]\n",
    "returns = year_sp500.pct_change().dropna()\n",
    "print('risk is ',returns.std()*np.sqrt(len(returns)))"
   ]
  },
  {
   "cell_type": "code",
   "execution_count": 37,
   "id": "c4da093e-bec6-447c-bbe6-980ee3af6a90",
   "metadata": {},
   "outputs": [
    {
     "name": "stdout",
     "output_type": "stream",
     "text": [
      "length of series is  51\n",
      "arithmetic mean return is  0.2906505308484385\n",
      "weekly risk is  0.16296403772051915\n",
      "geometric mean return is  0.3323000863219022\n"
     ]
    }
   ],
   "source": [
    "# 0 ... 月曜, 6 ... 日曜\n",
    "# 金曜のサンプル close_df.index[1] == Timestamp('2015-10-23 00:00:00')\n",
    "# 曜日番号系列 close_df.index.weekday\n",
    "# 曜日番号の差分で、負の値をとるところが曜日またぎ close_df.index.weekday.diff().dropna()\n",
    "# 先頭[0]は「金曜日-木曜日」なので正、2番目[1]は「月曜日-金曜日」なので負、これがindex[1]と一致するので、これで週の最終営業日の終値を抜き出せた\n",
    "weekly_sp500 = emaxis_slim_sp500.iloc[:-1][emaxis_slim_sp500.index.weekday.diff().dropna()<0]\n",
    "# 1月末時点の1年分の週次分析\n",
    "tmp = weekly_sp500.loc[datetime.datetime(2024,2,1):datetime.datetime(2025,1,31)]\n",
    "weekly_returns = tmp.pct_change().dropna()\n",
    "print('length of series is ', len(weekly_returns))\n",
    "print('arithmetic mean return is ', weekly_returns.mean() * len(weekly_returns))\n",
    "print('weekly risk is ', weekly_returns.std()*np.sqrt(len(weekly_returns)))\n",
    "print('geometric mean return is ', ((year_sp500.iloc[-1]-year_sp500.iloc[0])/year_sp500.iloc[0])) #← 日経と合わせるなら、月次リターンで計算しないといけない"
   ]
  },
  {
   "cell_type": "markdown",
   "id": "e328830e-c10f-4e69-a99f-5947f05a22f9",
   "metadata": {},
   "source": [
    "参考 → [株価のリターンを計算する：幾何平均リターンとリスク｜yo4shi80](https://note.com/yo4shi80/n/n356ab23a06ee#38766d98-3bd2-4a24-bbb0-3eb0eda8cd56)"
   ]
  },
  {
   "cell_type": "code",
   "execution_count": 30,
   "id": "de306d90-a113-45b9-ad0b-572a19e1aadb",
   "metadata": {},
   "outputs": [
    {
     "data": {
      "text/plain": [
       "(2015-12-31    159.721619\n",
       " 2016-12-30    179.154541\n",
       " 2017-12-29    218.162888\n",
       " 2018-12-31    208.344086\n",
       " 2019-12-31    273.691254\n",
       " 2020-12-31    323.843445\n",
       " 2021-12-31    417.092438\n",
       " 2022-12-30    341.289917\n",
       " 2023-12-29    431.130676\n",
       " 2024-12-31    538.809998\n",
       " dtype: float64,\n",
       " np.float64(287.15408225345277))"
      ]
     },
     "execution_count": 30,
     "metadata": {},
     "output_type": "execute_result"
    }
   ],
   "source": [
    "yearly_voo,gmean(yearly_voo)"
   ]
  },
  {
   "cell_type": "code",
   "execution_count": 31,
   "id": "838596d8-8159-4147-a412-a881964b63ef",
   "metadata": {},
   "outputs": [
    {
     "name": "stdout",
     "output_type": "stream",
     "text": [
      "[1, 1.01, 1.0201, 1.030301, 1.04060401, 1.0510100501, 1.061520150601, 1.0721353521070098, 1.08285670562808, 1.0936852726843609, 1.1046221254112045]\n",
      "1.0510100501\n"
     ]
    }
   ],
   "source": [
    "prev = 1\n",
    "out = [1]\n",
    "for i in range(10):\n",
    "    prev *= 1.01\n",
    "    out.append(prev)\n",
    "print(out)\n",
    "print(gmean(out))"
   ]
  },
  {
   "cell_type": "code",
   "execution_count": 33,
   "id": "7a8982dd-4181-4167-be77-04668da63d73",
   "metadata": {},
   "outputs": [
    {
     "data": {
      "text/plain": [
       "1.01"
      ]
     },
     "execution_count": 33,
     "metadata": {},
     "output_type": "execute_result"
    }
   ],
   "source": [
    "(out[-1]/out[0])**(1/(len(out)-1))"
   ]
  },
  {
   "cell_type": "code",
   "execution_count": null,
   "id": "3ba9e516-5c39-4bf3-8b8d-c0bfab5223d0",
   "metadata": {},
   "outputs": [],
   "source": []
  }
 ],
 "metadata": {
  "kernelspec": {
   "display_name": "Python 3 (ipykernel)",
   "language": "python",
   "name": "python3"
  },
  "language_info": {
   "codemirror_mode": {
    "name": "ipython",
    "version": 3
   },
   "file_extension": ".py",
   "mimetype": "text/x-python",
   "name": "python",
   "nbconvert_exporter": "python",
   "pygments_lexer": "ipython3",
   "version": "3.12.6"
  }
 },
 "nbformat": 4,
 "nbformat_minor": 5
}
