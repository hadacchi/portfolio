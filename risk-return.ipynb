{
 "cells": [
  {
   "cell_type": "markdown",
   "id": "ca3a8589-1736-44bb-95c0-c0c79eebac66",
   "metadata": {},
   "source": [
    "# リスクリターン平面の作成"
   ]
  },
  {
   "cell_type": "code",
   "execution_count": 1,
   "id": "d506a18c-f9e9-4494-bc61-ed7cd726409e",
   "metadata": {},
   "outputs": [],
   "source": [
    "import toml\n",
    "import pandas as pd\n",
    "import datetime\n",
    "import copy\n",
    "import numpy as np\n",
    "from scipy.stats import gmean\n",
    "\n",
    "import yfinance as yf\n",
    "\n",
    "from statsmodels.tsa.seasonal import seasonal_decompose\n",
    "\n",
    "import seaborn as sns\n",
    "import matplotlib.pyplot as plt\n",
    "\n",
    "from pptx import Presentation\n",
    "from pptx.util import Cm, Pt, Inches  # 単位変換機能\n",
    "from pptx.dml.color import RGBColor   # 色指定用\n",
    "\n",
    "from deal import *\n",
    "from load_ts import *"
   ]
  },
  {
   "cell_type": "markdown",
   "id": "61a8e744-e5d8-469a-a868-c9751884f633",
   "metadata": {},
   "source": [
    "## 時系列の取得"
   ]
  },
  {
   "cell_type": "code",
   "execution_count": 2,
   "id": "d575cac4-77e2-4ebc-8a6e-8c0638a3af70",
   "metadata": {},
   "outputs": [],
   "source": [
    "tickers = [ 'VOO'  # S&P500 連動 ETF\n",
    "          , 'SPYD' # S&P500 高配当株式 ETF\n",
    "          , 'VYM'  # バンガード米国高配当株式 ETF\n",
    "          , 'SCHD' # シュワブ米国高配当株式 ETF\n",
    "          , 'VT'   # バンガード・トータル・ワールドストックETF\n",
    "          , 'GLD'  # SDPRゴールドシェア\n",
    "         ]\n",
    "names = [ 'ｅＭＡＸＩＳ　Ｓｌｉｍ全世界株式（オール・カントリー）'\n",
    "        , 'ｅＭＡＸＩＳ　Ｓｌｉｍ米国株式（Ｓ＆Ｐ５００）'\n",
    "        , 'ＭＡＸＩＳトピックス上場投信'\n",
    "        , 'ＭＡＸＩＳトピックス上場投信'\n",
    "        , 'ＮＥＸＴ　ＦＵＮＤＳ金価格連動型上場投信'\n",
    "        , 'インデックスコレクション（国内債券）'\n",
    "        , 'インデックスコレクション（外国債券）'\n",
    "        , 'たわらノーロード全世界株式'\n",
    "        , '上場インデックスファンドＴＯＰＩＸ'\n",
    "        , '上場インデックスファンド海外先進国株式（ＭＳＣＩ－ＫＯＫＵＳＡＩ）'\n",
    "        , '上場インデックスファンド米国株式（Ｓ＆Ｐ５００）'\n",
    "        , '東京海上セレクション・物価連動国債'\n",
    "        ]"
   ]
  },
  {
   "cell_type": "code",
   "execution_count": 3,
   "id": "2256365d-7a40-4f09-bca9-9cd12998b006",
   "metadata": {},
   "outputs": [],
   "source": [
    "#close_df, div_df = pick_yfinance_data(labels)\n",
    "#div_rate_df = div_df/close_df\n",
    "\n",
    "close_df, _ = pick_csv_data(['ｅＭＡＸＩＳ　Ｓｌｉｍ米国株式（Ｓ＆Ｐ５００）',])"
   ]
  },
  {
   "cell_type": "markdown",
   "id": "4d441a94-8a93-4195-ad97-3665ed51f5b7",
   "metadata": {},
   "source": [
    "## テストコード"
   ]
  },
  {
   "cell_type": "markdown",
   "id": "5d4385b2-d52b-466c-a207-eeb49427899f",
   "metadata": {
    "jp-MarkdownHeadingCollapsed": true
   },
   "source": [
    "### テストデータ\n",
    "\n",
    "以下の eMAXIS Slim 米国株式のリスクリターンを正確に計算するよう計算式を組み立てる"
   ]
  },
  {
   "cell_type": "markdown",
   "id": "1e1af06a-78b3-4026-9e7f-0e02077e2fd1",
   "metadata": {},
   "source": [
    "![](sp500.png)"
   ]
  },
  {
   "cell_type": "code",
   "execution_count": 9,
   "id": "54048aea-7ee6-4431-b5e8-5ddfa6ca27b3",
   "metadata": {
    "scrolled": true
   },
   "outputs": [],
   "source": [
    "y0 = close_df.index[0].year"
   ]
  },
  {
   "cell_type": "markdown",
   "id": "113218aa-7392-40db-86d9-7d16397eb84b",
   "metadata": {},
   "source": [
    "### 年率リターンの計算 ← 完了"
   ]
  },
  {
   "cell_type": "markdown",
   "id": "afacd8e0-d97c-4d21-9b5c-8573ac561436",
   "metadata": {},
   "source": [
    "日経の年率リターンの計算式\\[1\\]によれば，\n",
    "$n$ヶ月前の月次の終値を$X_n$とした時，$n$ヶ月前の月次リターンを$p_n$とすると，\n",
    "$$p_n=\\frac{X_n-X_{n-1}}{X_{n-1}}$$\n",
    "ここで，$N$ヶ月の累積リターン$\\bar{p}$は\n",
    "$$\\bar{p}=\\prod^N_{k=1}(1+p_k)-1$$\n",
    "この時，年率リターンは\n",
    "$$(1+\\bar{p})^{12/N}-1$$\n",
    "\n",
    "\\[1\\] [日本経済新聞 ヘルプセンター](https://www.nikkei.com/help/contents/markets/fund/#qf15)"
   ]
  },
  {
   "cell_type": "code",
   "execution_count": 8,
   "id": "afa6da16-dcb0-43b7-b566-c734e421aac5",
   "metadata": {},
   "outputs": [
    {
     "name": "stdout",
     "output_type": "stream",
     "text": [
      "N=6, return = 0.1862\n",
      "N=12, return = 0.1610\n",
      "N=36, return = 0.2161\n",
      "N=60, return = 0.2346\n"
     ]
    }
   ],
   "source": [
    "target = close_df['ｅＭＡＸＩＳ　Ｓｌｉｍ米国株式（Ｓ＆Ｐ５００）']\n",
    "target.loc[target.index[-1]+datetime.timedelta(days=3)] = target.iloc[-1]  # 2月末までしかデータがないので，1営業日のばす\n",
    "for N in [6,12,36,60]:\n",
    "    # diffは先頭がNaNになることを利用し，月始めにTrueとなる判定式を1つシフト\n",
    "    # 結果，月次の終値の系列となる\n",
    "    monthly = target[:-1][target.index.month.diff().dropna()!=0]\n",
    "    returns = monthly.pct_change().dropna()[-N:]  # 月次リターン\n",
    "    N = min(N,returns.size)  # 系列が不足している場合に系列超に上書き\n",
    "    print(f'N={N}, return = {(returns+1).prod()**(12/N)-1:.4f}')  # Nヶ月の年率リターン"
   ]
  },
  {
   "cell_type": "markdown",
   "id": "791b83bd-9e89-41bf-8b33-a45030430744",
   "metadata": {},
   "source": [
    "### リスクの計算 ← 1年以上はOK"
   ]
  },
  {
   "cell_type": "markdown",
   "id": "c2b63d2e-725c-4935-86fe-d183d3b14437",
   "metadata": {},
   "source": [
    "日経の年率リスクの計算式\\[2\\]によれば，6カ月は日次データ、1年は週次データ、3年超は月次データで計算している\n",
    "n週前の週次の終値を$X_n$とした時，n週前のリターン $p_n$ の計算は\n",
    "$$p_n=\\frac{X_n-X_{n-1}}{X_{n-1}}$$\n",
    "ここで，$N$週分のリターンから年率のリスクを計算する式は\n",
    "$$\\frac{\\sqrt{N\\sum_k (p_k)^2-(\\sum_kp_k)^2}}{N(N-1)}\\times \\sqrt{52}$$\n",
    "\n",
    "\\[2\\] [日本経済新聞 ヘルプセンター](https://www.nikkei.com/help/contents/markets/fund/#qf17)"
   ]
  },
  {
   "cell_type": "code",
   "execution_count": 22,
   "id": "322abc9f-eef1-49f7-aa79-d8ec18e74e3e",
   "metadata": {},
   "outputs": [
    {
     "data": {
      "text/plain": [
       "122"
      ]
     },
     "metadata": {},
     "output_type": "display_data"
    },
    {
     "data": {
      "text/plain": [
       "(2025, 2, 28)"
      ]
     },
     "metadata": {},
     "output_type": "display_data"
    },
    {
     "data": {
      "text/plain": [
       "(2024, 8, 28)"
      ]
     },
     "metadata": {},
     "output_type": "display_data"
    },
    {
     "name": "stdout",
     "output_type": "stream",
     "text": [
      "N=60, risk=0.17566970165030074\n",
      "N=52, risk=0.16743513216461686\n",
      "N=36, risk=0.16860986407504724\n",
      "N=60, risk=0.17138583002061025\n"
     ]
    }
   ],
   "source": [
    "target = close_df['ｅＭＡＸＩＳ　Ｓｌｉｍ米国株式（Ｓ＆Ｐ５００）']\n",
    "target.loc[target.index[-1]+datetime.timedelta(days=3)] = target.iloc[-1]  # 2月末までしかデータがないので，1営業日のばす\n",
    "for period in [0.5, 1, 3, 5]:\n",
    "    if period == 1:\n",
    "        N = 52\n",
    "        # weekly\n",
    "        weekly = target.iloc[:-1][target.index.weekday.diff().dropna()<=0] \n",
    "        returns = weekly.pct_change().dropna()[-N:]\n",
    "        # diffは先頭がNaNになることを利用，曜日番号の差分系列は週末を越えると負になることを利用，週始めにTrueとなる判定式を1つシフト\n",
    "        # 年末年始などで4営業日がつぶれる場合は ==0 も含むので判定式は <= とする\n",
    "        # 結果，週次の終値の系列となる\n",
    "        weekly = target.iloc[:-1][target.index.weekday.diff().dropna()<=0] \n",
    "        returns = weekly.pct_change().dropna()[-N:]\n",
    "        sqrt_N = np.sqrt(52)\n",
    "    elif period > 1:\n",
    "        N = period * 12  # 3年～は月次リターンの分散から計算\n",
    "        # monthly\n",
    "        monthly = target[:-1][target.index.month.diff().dropna()!=0]\n",
    "        returns = monthly.pct_change().dropna()[-N:]  # 月次リターン\n",
    "        sqrt_N = np.sqrt(12)\n",
    "    elif period == 0.5:\n",
    "        y,m,d = target.index[-2].timetuple()[:3]\n",
    "        if m-6 > 0:\n",
    "            m -= 6\n",
    "        else:\n",
    "            y -= 1\n",
    "            m += 6\n",
    "        tmp = target.loc[datetime.datetime(y,m,d):]\n",
    "        returns = tmp.pct_change().dropna()\n",
    "        display(returns.size)\n",
    "        display(target.index[-2].timetuple()[:3],(y,m,d))\n",
    "        sqrt_N = np.sqrt(252)\n",
    "    #N = min(N,returns.size)  # 系列が不足している場合に系列超に上書き\n",
    "    print(f'N={N}, risk={returns.std()*sqrt_N}')  # 6ヶ月の日次が合わない，1年の週次は合った，3年の月次は未"
   ]
  },
  {
   "cell_type": "code",
   "execution_count": 28,
   "id": "d18ff1d7-b14f-48d4-9863-2b900f58e766",
   "metadata": {},
   "outputs": [
    {
     "data": {
      "text/plain": [
       "2020-02-27         NaN\n",
       "2021-02-26    0.200770\n",
       "2022-02-28    0.259275\n",
       "2023-02-28    0.086462\n",
       "dtype: float64"
      ]
     },
     "execution_count": 28,
     "metadata": {},
     "output_type": "execute_result"
    }
   ],
   "source": [
    "yearly_sp500.pct_change()"
   ]
  },
  {
   "cell_type": "code",
   "execution_count": 14,
   "id": "cf6e5a31-d410-4e55-924e-08f276a0ebea",
   "metadata": {},
   "outputs": [
    {
     "data": {
      "text/plain": [
       "(np.float64(0.2084201943304944), np.float64(0.00385824758162312))"
      ]
     },
     "execution_count": 14,
     "metadata": {},
     "output_type": "execute_result"
    }
   ],
   "source": [
    "arithmetic_mean = yearly_sp500.pct_change().dropna().mean()\n",
    "geometric_mean = ((yearly_sp500.iloc[-1]-yearly_voo.iloc[0])/yearly_voo.iloc[0])**(1/(len(yearly_voo)-1))-1\n",
    "arithmetic_mean, geometric_mean"
   ]
  },
  {
   "cell_type": "code",
   "execution_count": 7,
   "id": "f68b6f87-98d3-4736-9ff9-e5e9947b63c4",
   "metadata": {},
   "outputs": [
    {
     "data": {
      "text/plain": [
       "np.float64(0.16686599278995107)"
      ]
     },
     "execution_count": 7,
     "metadata": {},
     "output_type": "execute_result"
    }
   ],
   "source": [
    "returns = yearly_voo.pct_change().dropna()\n",
    "risk = returns.std()\n",
    "risk"
   ]
  },
  {
   "cell_type": "code",
   "execution_count": 8,
   "id": "acda3d7f-7705-4ebc-a08a-e3390b1623bd",
   "metadata": {},
   "outputs": [],
   "source": [
    "daily_return = close_df['VOO'].pct_change().dropna()\n",
    "daily_arithmetic_mean = daily_return.mean()\n",
    "daily_risk = daily_return.std()"
   ]
  },
  {
   "cell_type": "code",
   "execution_count": 9,
   "id": "08283820-82f1-4a28-b8e9-de123bdaab76",
   "metadata": {},
   "outputs": [
    {
     "data": {
      "text/plain": [
       "(np.float64(0.0005996742373635516), np.float64(0.011277977223254496))"
      ]
     },
     "execution_count": 9,
     "metadata": {},
     "output_type": "execute_result"
    }
   ],
   "source": [
    "daily_arithmetic_mean, daily_risk"
   ]
  },
  {
   "cell_type": "code",
   "execution_count": 10,
   "id": "86c42ebf-d548-401b-8d9e-4a6451e26ada",
   "metadata": {},
   "outputs": [
    {
     "data": {
      "text/plain": [
       "(np.float64(0.151117907815615), np.float64(0.15672153845471978))"
      ]
     },
     "execution_count": 10,
     "metadata": {},
     "output_type": "execute_result"
    }
   ],
   "source": [
    "daily_arithmetic_mean*252, arithmetic_mean"
   ]
  },
  {
   "cell_type": "code",
   "execution_count": 11,
   "id": "e735d674-a7a0-4b9d-bea3-82386909e80f",
   "metadata": {},
   "outputs": [
    {
     "data": {
      "text/plain": [
       "(np.float64(0.17903233814749306), np.float64(0.16686599278995107))"
      ]
     },
     "execution_count": 11,
     "metadata": {},
     "output_type": "execute_result"
    }
   ],
   "source": [
    "daily_risk*np.sqrt(252), risk"
   ]
  },
  {
   "cell_type": "code",
   "execution_count": 12,
   "id": "97c89dd6-66c5-446b-8416-6411e2f644ef",
   "metadata": {},
   "outputs": [
    {
     "name": "stdout",
     "output_type": "stream",
     "text": [
      "risk is  0.1271528542858593\n"
     ]
    }
   ],
   "source": [
    "year_voo = close_df['VOO'].loc[datetime.datetime(2024,2,1):datetime.datetime(2025,1,31)]\n",
    "returns = year_voo.pct_change().dropna()\n",
    "print('risk is ',returns.std()*np.sqrt(len(returns)))"
   ]
  },
  {
   "cell_type": "code",
   "execution_count": 13,
   "id": "792da483-85b8-4b9f-80b3-9b836fbb843c",
   "metadata": {},
   "outputs": [
    {
     "name": "stdout",
     "output_type": "stream",
     "text": [
      "length of series is  52\n",
      "arithmetic mean return is  0.2186018129112031\n",
      "weekly risk is  0.12692074233615888\n"
     ]
    }
   ],
   "source": [
    "# 0 ... 月曜, 6 ... 日曜\n",
    "# 金曜のサンプル close_df.index[1] == Timestamp('2015-10-23 00:00:00')\n",
    "# 曜日番号系列 close_df.index.weekday\n",
    "# 曜日番号の差分で、負の値をとるところが曜日またぎ close_df.index.weekday.diff().dropna()\n",
    "# 先頭[0]は「金曜日-木曜日」なので正、2番目[1]は「月曜日-金曜日」なので負、これがindex[1]と一致するので、これで週の最終営業日の終値を抜き出せた\n",
    "weekly_voo = close_df['VOO'].iloc[:-1][close_df.index.weekday.diff().dropna()<0]\n",
    "# 1月末時点の1年分の週次分析\n",
    "tmp = weekly_voo.loc[datetime.datetime(2024,2,1):datetime.datetime(2025,1,31)]\n",
    "weekly_returns = tmp.pct_change().dropna()\n",
    "print('length of series is ', len(weekly_returns))\n",
    "print('arithmetic mean return is ', weekly_returns.mean() * len(weekly_returns))\n",
    "print('weekly risk is ', weekly_returns.std()*np.sqrt(len(weekly_returns)))"
   ]
  },
  {
   "cell_type": "code",
   "execution_count": 14,
   "id": "5b7e6184-b454-4f1b-8cca-f765f8d4711c",
   "metadata": {},
   "outputs": [
    {
     "data": {
      "text/plain": [
       "np.float64(0.1269207423361589)"
      ]
     },
     "execution_count": 14,
     "metadata": {},
     "output_type": "execute_result"
    }
   ],
   "source": [
    "sq_sum = (weekly_returns*weekly_returns).sum()  # 平方和\n",
    "sum_sq = weekly_returns.sum()**2  # 和の平方\n",
    "variance = (len(weekly_returns)*sq_sum - sum_sq)/len(weekly_returns)/(len(weekly_returns)-1)  # 不偏分散\n",
    "std = np.sqrt(variance)  # 標準偏差\n",
    "std*np.sqrt(len(weekly_returns))"
   ]
  },
  {
   "cell_type": "code",
   "execution_count": 30,
   "id": "bd781be6-982e-4a07-a995-fb4a50642ec0",
   "metadata": {},
   "outputs": [],
   "source": [
    "import csv\n",
    "import os\n",
    "import re\n",
    "\n",
    "jpdate_splitter = re.compile('[年月日]')\n",
    "index_column = '年月日'\n",
    "data_column = '基準価額(円)'\n",
    "\n",
    "def to_date(datestr):\n",
    "    '''input is date string joined by date_splitter\n",
    "\n",
    "    now only jp date format is implemented.\n",
    "    '''\n",
    "    if datestr.find('年') > 0:\n",
    "        date_list = jpdate_splitter.split(datestr)\n",
    "        if len(date_list) < 3:\n",
    "            raise Exception(f'invalid date string: {datestr}')\n",
    "        return datetime.datetime(*list(map(int, date_list[:3])))\n",
    "    else:\n",
    "        raise Exception(f'unknown date format: {datestr}')\n",
    "\n",
    "def load_csv(mutual_fund_name):\n",
    "    if os.path.isfile(mutual_fund_name+'.csv'):\n",
    "        data = pd.read_csv(mutual_fund_name+'.csv', encoding='932')\n",
    "        #with open(mutual_fund_name+'.csv') as fobj:\n",
    "        #    cobj = csv.reader(fobj.read().rstrip().splitlines())\n",
    "        #    data = [row for row in cobj]\n",
    "    else:\n",
    "        raise Exception(f'No such mutual fund data: {mutual_fund_name}')\n",
    "    data[index_column] = data[index_column].apply(to_date)\n",
    "    series = data.set_index(index_column)[data_column]\n",
    "    series.name = mutual_fund_name\n",
    "    return series\n",
    "\n",
    "emaxis_slim_sp500 = load_csv('ｅＭＡＸＩＳ　Ｓｌｉｍ米国株式（Ｓ＆Ｐ５００）')"
   ]
  },
  {
   "cell_type": "code",
   "execution_count": 32,
   "id": "713aab68-9b10-48fa-a0d7-2b44f933cc50",
   "metadata": {},
   "outputs": [
    {
     "name": "stdout",
     "output_type": "stream",
     "text": [
      "risk is  0.1743928881301315\n"
     ]
    }
   ],
   "source": [
    "year_sp500 = emaxis_slim_sp500.loc[datetime.datetime(2024,2,1):datetime.datetime(2025,1,31)]\n",
    "returns = year_sp500.pct_change().dropna()\n",
    "print('risk is ',returns.std()*np.sqrt(len(returns)))"
   ]
  },
  {
   "cell_type": "code",
   "execution_count": 37,
   "id": "c4da093e-bec6-447c-bbe6-980ee3af6a90",
   "metadata": {},
   "outputs": [
    {
     "name": "stdout",
     "output_type": "stream",
     "text": [
      "length of series is  51\n",
      "arithmetic mean return is  0.2906505308484385\n",
      "weekly risk is  0.16296403772051915\n",
      "geometric mean return is  0.3323000863219022\n"
     ]
    }
   ],
   "source": [
    "# 0 ... 月曜, 6 ... 日曜\n",
    "# 金曜のサンプル close_df.index[1] == Timestamp('2015-10-23 00:00:00')\n",
    "# 曜日番号系列 close_df.index.weekday\n",
    "# 曜日番号の差分で、負の値をとるところが曜日またぎ close_df.index.weekday.diff().dropna()\n",
    "# 先頭[0]は「金曜日-木曜日」なので正、2番目[1]は「月曜日-金曜日」なので負、これがindex[1]と一致するので、これで週の最終営業日の終値を抜き出せた\n",
    "weekly_sp500 = emaxis_slim_sp500.iloc[:-1][emaxis_slim_sp500.index.weekday.diff().dropna()<0]\n",
    "# 1月末時点の1年分の週次分析\n",
    "tmp = weekly_sp500.loc[datetime.datetime(2024,2,1):datetime.datetime(2025,1,31)]\n",
    "weekly_returns = tmp.pct_change().dropna()\n",
    "print('length of series is ', len(weekly_returns))\n",
    "print('arithmetic mean return is ', weekly_returns.mean() * len(weekly_returns))\n",
    "print('weekly risk is ', weekly_returns.std()*np.sqrt(len(weekly_returns)))\n",
    "print('geometric mean return is ', ((year_sp500.iloc[-1]-year_sp500.iloc[0])/year_sp500.iloc[0])) #← 日経と合わせるなら、月次リターンで計算しないといけない"
   ]
  },
  {
   "cell_type": "markdown",
   "id": "e328830e-c10f-4e69-a99f-5947f05a22f9",
   "metadata": {},
   "source": [
    "参考 → [株価のリターンを計算する：幾何平均リターンとリスク｜yo4shi80](https://note.com/yo4shi80/n/n356ab23a06ee#38766d98-3bd2-4a24-bbb0-3eb0eda8cd56)"
   ]
  },
  {
   "cell_type": "code",
   "execution_count": 30,
   "id": "de306d90-a113-45b9-ad0b-572a19e1aadb",
   "metadata": {},
   "outputs": [
    {
     "data": {
      "text/plain": [
       "(2015-12-31    159.721619\n",
       " 2016-12-30    179.154541\n",
       " 2017-12-29    218.162888\n",
       " 2018-12-31    208.344086\n",
       " 2019-12-31    273.691254\n",
       " 2020-12-31    323.843445\n",
       " 2021-12-31    417.092438\n",
       " 2022-12-30    341.289917\n",
       " 2023-12-29    431.130676\n",
       " 2024-12-31    538.809998\n",
       " dtype: float64,\n",
       " np.float64(287.15408225345277))"
      ]
     },
     "execution_count": 30,
     "metadata": {},
     "output_type": "execute_result"
    }
   ],
   "source": [
    "yearly_voo,gmean(yearly_voo)"
   ]
  },
  {
   "cell_type": "code",
   "execution_count": 31,
   "id": "838596d8-8159-4147-a412-a881964b63ef",
   "metadata": {},
   "outputs": [
    {
     "name": "stdout",
     "output_type": "stream",
     "text": [
      "[1, 1.01, 1.0201, 1.030301, 1.04060401, 1.0510100501, 1.061520150601, 1.0721353521070098, 1.08285670562808, 1.0936852726843609, 1.1046221254112045]\n",
      "1.0510100501\n"
     ]
    }
   ],
   "source": [
    "prev = 1\n",
    "out = [1]\n",
    "for i in range(10):\n",
    "    prev *= 1.01\n",
    "    out.append(prev)\n",
    "print(out)\n",
    "print(gmean(out))"
   ]
  },
  {
   "cell_type": "code",
   "execution_count": 33,
   "id": "7a8982dd-4181-4167-be77-04668da63d73",
   "metadata": {},
   "outputs": [
    {
     "data": {
      "text/plain": [
       "1.01"
      ]
     },
     "execution_count": 33,
     "metadata": {},
     "output_type": "execute_result"
    }
   ],
   "source": [
    "(out[-1]/out[0])**(1/(len(out)-1))"
   ]
  },
  {
   "cell_type": "code",
   "execution_count": null,
   "id": "3ba9e516-5c39-4bf3-8b8d-c0bfab5223d0",
   "metadata": {},
   "outputs": [],
   "source": []
  }
 ],
 "metadata": {
  "kernelspec": {
   "display_name": "Python 3 (ipykernel)",
   "language": "python",
   "name": "python3"
  },
  "language_info": {
   "codemirror_mode": {
    "name": "ipython",
    "version": 3
   },
   "file_extension": ".py",
   "mimetype": "text/x-python",
   "name": "python",
   "nbconvert_exporter": "python",
   "pygments_lexer": "ipython3",
   "version": "3.12.4"
  }
 },
 "nbformat": 4,
 "nbformat_minor": 5
}
